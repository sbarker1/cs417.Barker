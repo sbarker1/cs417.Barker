{
 "cells": [
  {
   "cell_type": "markdown",
   "id": "63cbc0ea-7cd4-4438-bb32-5b9426d83e09",
   "metadata": {},
   "source": [
    "CS417 Assignment 4: Getting your feet wet in Python\n",
    "---\n",
    "# Instructions\n",
    "Each of the following questions is followed by empty code cell. Add your code for the question to the cell and then execute that cell.  Submit the completed notebook by saving it in your GitHub repository and note in your submission on Blackboard where I can find the file.\n"
   ]
  },
  {
   "cell_type": "markdown",
   "id": "9465d6e4-f49c-438e-9a1d-ccf418e2fed9",
   "metadata": {},
   "source": [
    "## Problem 1 (Easy)\n",
    "Write a word frequency counter: How often does each word\n",
    "  show up in an array of words? Print out a report. (Hint: Use a dictionary to\n",
    "  count of the number of appearances of each word.)"
   ]
  },
  {
   "cell_type": "code",
   "execution_count": 3,
   "id": "366de7f5-8efd-4964-afb2-12734c2142e2",
   "metadata": {},
   "outputs": [
    {
     "name": "stdout",
     "output_type": "stream",
     "text": [
      "Word Frequency Report:\n",
      "apple: 3\n",
      "book: 2\n",
      "pencil: 1\n"
     ]
    }
   ],
   "source": [
    "# Author: Samuel Barker\n",
    "# Email: sbarker1@my.athens.edu\n",
    "# Assignment 3, Problem 1\n",
    "\n",
    "def word_frequency_counter(words):\n",
    "    frequency_counter = {}\n",
    "\n",
    "    for word in words:  # frequency count of each word\n",
    "        if word in frequency_counter:\n",
    "            frequency_counter[word] += 1\n",
    "        else:\n",
    "            frequency_counter[word] = 1\n",
    "\n",
    "    # word frequency report\n",
    "    print(\"Word Frequency Report:\")\n",
    "# Provide python dictionary \n",
    "    for word, frequency in frequency_counter.items():\n",
    "        print(f\"{word}: {frequency}\")\n",
    "#Provide array of words\n",
    "word_array = [\"apple\", \"book\", \"apple\", \"pencil\", \"book\", \"apple\"]\n",
    "word_frequency_counter(word_array)\n"
   ]
  },
  {
   "cell_type": "markdown",
   "id": "15b4b2ce-9118-4abb-9bbf-ed787721f87c",
   "metadata": {},
   "source": [
    "## Problem 2 (Easy)\n",
    "Given a month and the day of the week that’s the first of\n",
    "  that month entered as arugments on the command line, write a program\n",
    "  that prints a calendar for the month. (HINT: Remember one of the rules of being Pythonic: *Someone else has already done it*.  Do some research to see if you can find a Python library that will help you with this problem)."
   ]
  },
  {
   "cell_type": "code",
   "execution_count": null,
   "id": "2b365fa9-c81c-4149-9e8f-eda14255d50c",
   "metadata": {},
   "outputs": [],
   "source": [
    "# Author: Samuel Barker\n",
    "# Email: sbarker1@my.athens.edu\n",
    "# Assignment 3, Problem 2\n",
    "\n",
    "# Note: For program to work, I needed to refer to command terminal (on VSCode) to place arguments on the command line. \n",
    "# Example: PS C:\\Users\\erbab\\desktop> python \"C:\\Users\\erbab\\Desktop\\BarkerAssign03Prob2.py\" 6 Monday\n",
    "\n",
    "import calendar\n",
    "import sys\n",
    "\n",
    "# Get month and day of the week from command line arguments\n",
    "if len(sys.argv) != 3:\n",
    "    print(\"Usage: BarkerAssign03Prob2.py <month> <day_of_week>\")\n",
    "    sys.exit(1)\n",
    "\n",
    "month = int(sys.argv[1])\n",
    "day_of_week = sys.argv[2]\n",
    "\n",
    "# Check month input\n",
    "if month < 1 or month > 12:\n",
    "    print(\"Invalid month. Please enter a number between 1 and 12.\")\n",
    "    sys.exit(1)\n",
    "\n",
    "# Following will accept days as valid input. \n",
    "valid_days = [\"Monday\", \"Tuesday\", \"Wednesday\", \"Thursday\", \"Friday\", \"Saturday\", \"Sunday\"]\n",
    "if day_of_week not in valid_days:\n",
    "    print(\"Invalid day of the week. Please enter a valid day.\")\n",
    "    sys.exit(1)\n",
    "\n",
    "# Generate the calendar data for the given month\n",
    "cal = calendar.monthcalendar(2023, month)\n",
    "\n",
    "# Index of the day of the week\n",
    "day_index = valid_days.index(day_of_week)\n",
    "\n",
    "# Prints calendar header\n",
    "print(f\"{' ' * 13}{calendar.month_name[month]} 2023\")\n",
    "print(\"-------------------------------\")\n",
    "print(\"Mon  Tue  Wed  Thu  Fri  Sat  Sun\")\n",
    "\n",
    "# Calendar rows\n",
    "for week in cal:\n",
    "    for day in week:\n",
    "        if day == 0:\n",
    "            print(\"     \", end=\"\")\n",
    "        else:\n",
    "            print(f\"{day:2d}   \", end=\"\")\n",
    "    print()\n",
    "\n",
    "\n"
   ]
  },
  {
   "cell_type": "markdown",
   "id": "a7e29bca-2e3e-4cb2-a768-47215582850e",
   "metadata": {},
   "source": [
    "## Problem 3 (Easy)\n",
    "Write a function that counts the the characters in a\n",
    "  string input by the user.  Write a main function that calls this\n",
    "  function and displays the string and number of characters."
   ]
  },
  {
   "cell_type": "code",
   "execution_count": 5,
   "id": "f6189d14-e493-4473-a9cd-bffc9560160c",
   "metadata": {},
   "outputs": [
    {
     "name": "stdout",
     "output_type": "stream",
     "text": [
      "String: testing one two three this is a string\n",
      "Number of characters: 38\n"
     ]
    }
   ],
   "source": [
    "# Author: Samuel Barker\n",
    "# Email: sbarker1@my.athens.edu\n",
    "# Assignment 3, Problem 3\n",
    "\n",
    "#count the characters\n",
    "def count_characters(string):\n",
    "    return len(string)\n",
    "\n",
    "def main():\n",
    "    #Main function to get user input, count characters, and display \n",
    "    user_input = input(\"Enter a string: \")\n",
    "    character_count = count_characters(user_input)\n",
    "    print(\"String:\", user_input)\n",
    "    print(\"Number of characters:\", character_count)\n",
    "\n",
    "# Call main function to run the program\n",
    "main()\n"
   ]
  },
  {
   "cell_type": "markdown",
   "id": "d460ad3f",
   "metadata": {},
   "source": [
    "# Problem 4 (Moderate, but Painfully Simple)\n",
    "\n",
    "You are writing a test framework in Python and you need to determine what are the attributes and methods of an object.    Write a function (whose body, if you're careful about it, need only be a single statement) that returns a list of the attributes and methods of an object passed to it as an argument."
   ]
  },
  {
   "cell_type": "code",
   "execution_count": 7,
   "id": "6dcfd557",
   "metadata": {},
   "outputs": [
    {
     "name": "stdout",
     "output_type": "stream",
     "text": [
      "['attribute1', 'method1']\n"
     ]
    }
   ],
   "source": [
    "# Author: Samuel Barker\n",
    "# Email: sbarker1@my.athens.edu\n",
    "# Assignment 3, Problem 4\n",
    "\n",
    "def get_attributes_and_methods(obj):\n",
    "    return [name for name in dir(obj) if not name.startswith(\"__\")]\n",
    "\n",
    "# Example usage:\n",
    "class SampleClass:\n",
    "    def __init__(self):\n",
    "        self.attribute1 = 42\n",
    "\n",
    "    def method1(self):\n",
    "        pass\n",
    "\n",
    "sample_obj = SampleClass()\n",
    "result = get_attributes_and_methods(sample_obj)\n",
    "print(result)\n"
   ]
  },
  {
   "cell_type": "markdown",
   "id": "72dc799e",
   "metadata": {},
   "source": [
    "# Problem 5 (Moderate)\n",
    "\n",
    "One can parse a fully-parenthesized in-fix expression using two stacks: an operand stack and an operator stack.   You traverse your way through a string containing such an expression and push numbers onto the operand stack and operators onto the operator stack.   When you see a right parenthsis character,  pop two numbers off of the operand stack and pop an operator off of the operator stack, do the operation (add, subtract, multiply, or divide), and push the result back onto the operand stack.   When you reach the end of the expression string, the number on the top of the operand stack is the result (assuming a correctly formatted expression).\n",
    "\n",
    "Write a function in Python that, given a fully-parenthesized in-fix expression in a string, returns the result of evaluating that expression."
   ]
  },
  {
   "cell_type": "code",
   "execution_count": 8,
   "id": "3a5e579f",
   "metadata": {},
   "outputs": [
    {
     "name": "stdout",
     "output_type": "stream",
     "text": [
      "30.0\n"
     ]
    }
   ],
   "source": [
    "# Author: Samuel Barker\n",
    "# Email: sbarker1@my.athens.edu\n",
    "# Assignment 3, Problem 5\n",
    "\n",
    "# Function\n",
    "def evaluate_expression(expression):\n",
    "    def apply_operator(operators, operands):\n",
    "        operator = operators.pop()\n",
    "        right_operand = operands.pop()\n",
    "        left_operand = operands.pop()\n",
    "\n",
    "        if operator == '+':\n",
    "            result = left_operand + right_operand\n",
    "        elif operator == '-':\n",
    "            result = left_operand - right_operand\n",
    "        elif operator == '*':\n",
    "            result = left_operand * right_operand\n",
    "        elif operator == '/':\n",
    "            result = left_operand / right_operand\n",
    "\n",
    "        operands.append(result)\n",
    "\n",
    "    def precedence(operator):\n",
    "        if operator in ('+', '-'):\n",
    "            return 1\n",
    "        elif operator in ('*', '/'):\n",
    "            return 2\n",
    "        return 0\n",
    "\n",
    "    operators = []\n",
    "    operands = []\n",
    "    i = 0\n",
    "\n",
    "    while i < len(expression):\n",
    "        if expression[i] == ' ':\n",
    "            i += 1\n",
    "            continue\n",
    "\n",
    "        if expression[i] == '(':\n",
    "            operators.append(expression[i])\n",
    "        elif expression[i].isdigit() or (expression[i] == '-' and (i == 0 or expression[i-1] == '(')):\n",
    "            j = i\n",
    "            while j < len(expression) and (expression[j].isdigit() or expression[j] == '.'):\n",
    "                j += 1\n",
    "            operands.append(float(expression[i:j]))\n",
    "            i = j - 1\n",
    "        elif expression[i] == ')':\n",
    "            while operators and operators[-1] != '(':\n",
    "                apply_operator(operators, operands)\n",
    "            operators.pop()  # Pop the '('\n",
    "        else:\n",
    "            while operators and operators[-1] != '(' and precedence(operators[-1]) >= precedence(expression[i]):\n",
    "                apply_operator(operators, operands)\n",
    "            operators.append(expression[i])\n",
    "        i += 1\n",
    "\n",
    "    while operators:\n",
    "        apply_operator(operators, operands)\n",
    "\n",
    "    return operands[0]\n",
    "\n",
    "# Example below\n",
    "expression = \"(7 + 8) * 2\"\n",
    "result = evaluate_expression(expression)\n",
    "print(result) "
   ]
  }
 ],
 "metadata": {
  "kernelspec": {
   "display_name": "Python 3.10.6 64-bit",
   "language": "python",
   "name": "python3"
  },
  "language_info": {
   "codemirror_mode": {
    "name": "ipython",
    "version": 3
   },
   "file_extension": ".py",
   "mimetype": "text/x-python",
   "name": "python",
   "nbconvert_exporter": "python",
   "pygments_lexer": "ipython3",
   "version": "3.11.4"
  },
  "vscode": {
   "interpreter": {
    "hash": "b0fa6594d8f4cbf19f97940f81e996739fb7646882a419484c72d19e05852a7e"
   }
  }
 },
 "nbformat": 4,
 "nbformat_minor": 5
}
